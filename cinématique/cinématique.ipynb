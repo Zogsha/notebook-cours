{
 "cells": [
  {
   "cell_type": "markdown",
   "metadata": {},
   "source": [
    "# Introduction"
   ]
  },
  {
   "cell_type": "markdown",
   "metadata": {},
   "source": [
    "Chaque partie de la feuille nécessite que chaque parties du code soient exécutées au fur et à mesure. Il suffit pour cela de sélectionner le code et appuyer sur ▶. Des parties sont à compléter. Elles sont indiquées par la mention `\"A COMPLETER\"`."
   ]
  },
  {
   "cell_type": "code",
   "execution_count": null,
   "metadata": {},
   "outputs": [],
   "source": [
    "\"\"\"\n",
    "Programme permettant d'observer les vecteurs vitesses et accélérations.\n",
    "Les données des positions sont issus d'un pointage vidéo.\n",
    "Rien est à modifier dans cette partie. Il s'agit des différentes parties\n",
    "nécessaires au bon fonctionnement du programme.\n",
    "\"\"\"\n",
    "\n",
    "# imports nécessaires\n",
    "import matplotlib.pyplot as plt\n",
    "import pandas as pd\n",
    "\n",
    "# lecture des données dans le fichier parabolique.txt\n",
    "# création d'un tableau de ces valeurs\n",
    "tableau = pd.read_csv(\n",
    "    \"./circulaire.txt\",\n",
    "    sep=\";\",  # indique que les valeurs sont séparées par des ;\n",
    "    decimal=\",\",  # indique que les décimales sont indiquées par ,\n",
    "    skiprows=[\n",
    "        0,\n",
    "        2,\n",
    "    ],  # enlève la 1ère ligne et la 3ème (ce sont le titre du fichier et les unités)\n",
    "    header=0, # la 1ère ligne sera le nom des colonnes\n",
    "    index_col=False,\n",
    ")\n",
    "\n",
    "# Afficher le tableau pour observer ces valeurs\n",
    "print(tableau)\n",
    "\n",
    "# pour plus de simplicité on enregistre les données dans des variables explicites\n",
    "temps = tableau[\"t\"]\n",
    "pos_x = tableau[\"x\"]\n",
    "pos_y = tableau[\"y\"]\n",
    "\n",
    "# repère orthonormé\n",
    "plt.axis('equal')\n",
    "plt.plot(0,0,'r+')\n",
    "# Affichage des points\n",
    "plt.plot(pos_x, pos_y, \"k+\")\n",
    "plt.show"
   ]
  },
  {
   "cell_type": "markdown",
   "metadata": {},
   "source": [
    "## Calcul de la vitesse en un point\n",
    "\n",
    "Pour calculer la vitesse moyenne en un point, il faut utiliser la méthode des points adjacents, c'est-à-dire utiliser les positions du point ainsi que celle du point suivant. Afin d'accéder à une valeur dans les listes `temps`, `pos_x` et `pos_y`, on la recherche par son index.\n",
    "\n",
    "Ex: la position x du 10ème point, c'est-à-dire le point 9, est `pos_x[9]`. Attention l'index commence à 0 ! La 10ème valeur est donc celle à l'index 9.\n",
    "Pour enregistrer cette valeur dans une variable, exemple `pos_x_9`, on peut écrire `pos_x_9 = pos_x[9]`\n",
    "\n",
    "1 - Ecrire un programme permettant d'enregistrer dans les variables `vx_2`, `vy_2` et `v_2` les valeurs de respectivement les coordonnées vx et vy du vecteur vitesse moyenne du point 2, et la norme de la vitesse moyenne du point 2."
   ]
  },
  {
   "cell_type": "code",
   "execution_count": null,
   "metadata": {},
   "outputs": [],
   "source": [
    "# vx au point 2\n",
    "vx_2 = (pos_x[3] - pos_x[2]) / (temps[3] - temps[2])\n",
    "# vy au point 2\n",
    "vy_2 = \"A COMPLETER\"\n",
    "# v au point 2\n",
    "v_2 = \"A COMPLETER\" # norme du vecteur de coordonnées vx_2 et vy_2"
   ]
  },
  {
   "cell_type": "code",
   "execution_count": null,
   "metadata": {},
   "outputs": [],
   "source": [
    "# tester votre programme en affichant les vitesses\n",
    "print(\"Au point 2 :\")\n",
    "print(f\"vx = {vx_2} m/s\")\n",
    "print(f\"vy = {vy_2} m/s\")\n",
    "print(f\"v = {v_2} m/s\")"
   ]
  },
  {
   "cell_type": "markdown",
   "metadata": {},
   "source": [
    "## Calcul de la vitesse pour tous les points\n",
    "\n",
    "Avec la méthode des points adjacents, si l’on dispose de n points, on peut calculer des coordonnées et normes des vitesses pour n-1 points (exclusion du dernier point car il n'y aura pas de points suivant).\n",
    "\n",
    "Les calculs systématiques pour ces n-1 points mobilisent une boucle. On peut utiliser une boucle `for`"
   ]
  },
  {
   "cell_type": "code",
   "execution_count": null,
   "metadata": {},
   "outputs": [],
   "source": [
    "# exemple de boucle for\n",
    "liste1 = [1,2,3,4,5] # liste de départ\n",
    "liste2 = [] # on initialise une nouvelle liste de valeur que l'on va compléter\n",
    "for i in range(0, len(liste1)):\n",
    "    # la valeur i va prendre tour à tour chaque valeur entière dans l'intervalle [0; len(liste1)[\n",
    "    # len(liste1) est égal au nombre d'élément dans la liste1, càd 5\n",
    "    # les valeurs de i vont donc être tour à tour 0, 1, 2, 3, 4\n",
    "    valeur = liste1[i] + 1 # on peut utiliser cette valeur de i. Ici elle utilisée pour aller chercher la valeur à l'index i dans la liste1 à laquelle on ajoute 1\n",
    "    liste2.append(valeur) # ici on ajoute cette nouvelle valeur à la liste2 avec la méthode append()\n",
    "\n",
    "# afficher le résultat pour comprendre le fonctionnement\n",
    "print(f\"la nouvelle liste appelée liste2 contient les valeur de la liste1 + 1 : {liste2}\")"
   ]
  },
  {
   "cell_type": "markdown",
   "metadata": {},
   "source": [
    "2 - Compléter le code suivant permettant de compléter la liste des vitesses `vit` correspondant à toutes les vitesses du point 0 au point n-1."
   ]
  },
  {
   "cell_type": "code",
   "execution_count": null,
   "metadata": {},
   "outputs": [],
   "source": [
    "vit_x = []\n",
    "vit_y = []\n",
    "vit = []\n",
    "for i in range(0, \"A COMPLETER\"):\n",
    "    # calcul de vx au point i\n",
    "    vx_i = \"A COMPLETER\"\n",
    "    vit_x.append(vx_i) # ajout à la liste\n",
    "    # calcul de vy au point i\n",
    "    vy_i = \"A COMPLETER\"\n",
    "    vit_y.append(vy_i) # ajout à la liste\n",
    "    # calcul de v au point i\n",
    "    v_i = \"A COMPLETER\"\n",
    "    vit.append(v_i) # ajout à la liste\n",
    "\n",
    "# Affichage de la liste des vitesses pour contrôler\n",
    "print(vit)"
   ]
  },
  {
   "cell_type": "code",
   "execution_count": null,
   "metadata": {},
   "outputs": [],
   "source": [
    "\"\"\"\n",
    "A exécuter pour observer les vecteurs vitesses.\n",
    "Rien est à modifier\n",
    "\"\"\"\n",
    "\n",
    "# repère orthonormé\n",
    "plt.axis('equal')\n",
    "plt.plot(0,0,'r+')\n",
    "# Affichage des points\n",
    "plt.plot(pos_x, pos_y, \"k+\")\n",
    "# affichage des vecteurs vitesses\n",
    "plt.quiver(pos_x[:-1], pos_y[:-1], vit_x, vit_y, color=\"green\")\n",
    "plt.show"
   ]
  },
  {
   "cell_type": "markdown",
   "metadata": {},
   "source": [
    "## Calcul de l'accélération pour tous les points\n",
    "\n",
    "Avec la méthode des points adjacents, si l’on dispose de n points, on peut calculer des coordonnées et normes des vitesses pour n-2 points (exclusion des deux derniers points)."
   ]
  },
  {
   "cell_type": "markdown",
   "metadata": {},
   "source": [
    "3 - Compléter le code suivant permettant de compléter la liste des vitesses `acc` correspondant à toutes les accélérations du point 0 au point n-2."
   ]
  },
  {
   "cell_type": "code",
   "execution_count": null,
   "metadata": {},
   "outputs": [],
   "source": [
    "acc_x = []\n",
    "acc_y = []\n",
    "acc = []\n",
    "for i in range(0, \"A COMPLETER\"):\n",
    "    # calcul de vx au point i\n",
    "    ax_i = \"A COMPLETER\"\n",
    "    acc_x.append(ax_i) # ajout à la liste\n",
    "    # calcul de vy au point i\n",
    "    ay_i = \"A COMPLETER\"\n",
    "    acc_y.append(ay_i) # ajout à la liste\n",
    "    # calcul de v au point i\n",
    "    a_i = \"A COMPLETER\"\n",
    "    acc.append(a_i) # ajout à la liste"
   ]
  },
  {
   "cell_type": "code",
   "execution_count": null,
   "metadata": {},
   "outputs": [],
   "source": [
    "\"\"\"\n",
    "A exécuter pour observer les vecteurs vitesses.\n",
    "Rien est à modifier\n",
    "\"\"\"\n",
    "\n",
    "# repère orthonormé\n",
    "plt.axis('equal')\n",
    "plt.plot(0,0,'r+')\n",
    "# Affichage des points\n",
    "plt.plot(pos_x, pos_y, \"k+\")\n",
    "# affichage des vecteurs vitesses\n",
    "plt.quiver(pos_x[:-1], pos_y[:-1], vit_x, vit_y, color=\"green\")\n",
    "# affichage des vecteurs vitesses\n",
    "plt.quiver(pos_x[0:-2], pos_y[0:-2], acc_x, acc_y, color=\"red\")\n",
    "plt.show"
   ]
  }
 ],
 "metadata": {
  "interpreter": {
   "hash": "8ab9dd72df9aaebd3e007c1ee54d15985ebd86cb529b5fe8708487f58b621661"
  },
  "kernelspec": {
   "display_name": "Python 3.9.7 64-bit",
   "name": "python3"
  },
  "language_info": {
   "codemirror_mode": {
    "name": "ipython",
    "version": 3
   },
   "file_extension": ".py",
   "mimetype": "text/x-python",
   "name": "python",
   "nbconvert_exporter": "python",
   "pygments_lexer": "ipython3",
   "version": "3.9.7"
  },
  "orig_nbformat": 4
 },
 "nbformat": 4,
 "nbformat_minor": 2
}
